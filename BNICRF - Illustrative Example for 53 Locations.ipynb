{
 "cells": [
  {
   "cell_type": "markdown",
   "metadata": {},
   "source": [
    "# Illustrative Example for 53 Locations for *Bayesian Network-Informed Conditional Random Forests*\n",
    "\n",
    "This notebook is an illustrative example using 53 stations, accompanying the article **Bayesian Network-Informed Conditional Random Forests for Probabilistic Multisite Downscaling of Precipitation Occurrence**, submitted to *Environmental Modelling and Software*. It is provided alongside the notebook *BNICRF - Worked Example and Reproducibility of Results.ipynb*, where we explain the basics. This notebook also serves to provide a rough approximation of the computation times required to run the models with bigger datasets. The files `data/data.spatial53.rda` and `data/y.test.spatial53.rda` are provided, with the data already split into a 5-fold cross-validation scheme. This notebook does not employ the predefined functions from *BNICRF - Worked Example and Reproducibility of Results.ipynb*, in order to measure the time required by each step of the process: building the Bayesian network, building the conditional random forest (CRF) ensemble, producing the conditional probability distributions and simulating from them. A final section validates that both the predictive and spatial (multi-site) performance are in line with the results shown in the article mentioned before. \n",
    "\n",
    "This notebook was run on an Intel(R) Core(TM) i5-8500 CPU @ 3.00GHz, using parallelization with all the available cores (6) at two critical steps: building each CRF (the trees are built in parallel) and producing the final simulations. Although more efficient parallelization schemes can be devised (such as parallelizing at a higher level, i.e., building the CRF ensemble in parallel), these two processes are by nature highly parallelizable. The highest computational cost is in the construction of the CRF ensemble. Each CRF requires around [0.85-0.93] minutes, and thus the whole ensemble requires around 45 minutes. \n",
    "\n",
    "With this configuration and processor, running this notebook takes less than 5 hours."
   ]
  },
  {
   "cell_type": "markdown",
   "metadata": {},
   "source": [
    "### Loading Required Packages, Functions and Datasets"
   ]
  },
  {
   "cell_type": "code",
   "execution_count": 1,
   "metadata": {},
   "outputs": [
    {
     "name": "stderr",
     "output_type": "stream",
     "text": [
      "Loading required package: bnlearn\n",
      "\n",
      "Loading required package: gRain\n",
      "\n",
      "Loading required package: gRbase\n",
      "\n",
      "\n",
      "Attaching package: ‘gRbase’\n",
      "\n",
      "\n",
      "The following objects are masked from ‘package:bnlearn’:\n",
      "\n",
      "    ancestors, children, nodes, parents\n",
      "\n",
      "\n",
      "Loading required package: pbapply\n",
      "\n",
      "Loading required package: rpart\n",
      "\n",
      "Loading required package: progressr\n",
      "\n",
      "Loading required package: future\n",
      "\n"
     ]
    }
   ],
   "source": [
    "set.seed(0)\n",
    "time_global = Sys.time()\n",
    "\n",
    "library(BNWeatherGen)\n",
    "library(RandomForestDist)\n",
    "library(future.apply)\n",
    "source(\"R/sortStationsAncestral.R\")\n",
    "load(\"data/data.spatial53.rda\") # data\n",
    "load(\"data/y.test.spatial53.rda\") # y.test"
   ]
  },
  {
   "cell_type": "markdown",
   "metadata": {},
   "source": [
    "### Model Configuration:"
   ]
  },
  {
   "cell_type": "code",
   "execution_count": 2,
   "metadata": {},
   "outputs": [],
   "source": [
    "maxp <- 4                          # Maximum number of parents\n",
    "mtry.factor <- 0.33                # This is the proportion of predictors to be used in each split\n",
    "non.informative.threshold <- 3     # Sample sizes (for conditional distributions) below 3 will use the marginal\n",
    "non.informative.p <- \"marginals\" \n",
    "ntree <- 100                       # Number of trees per CRF\n",
    "minbucket <- 15                    # Minimum number of elements per leaf\n",
    "tabu.list.length = 10^4            # Tabu list length for the Bayesian network structure learning algorithm"
   ]
  },
  {
   "cell_type": "markdown",
   "metadata": {},
   "source": [
    "`data` is already provided split into the 53 stations and the $5$ sequential folds (1979-1984, 1985-1990, 1991-1996, 1997-2002, 2003-2008)."
   ]
  },
  {
   "cell_type": "markdown",
   "metadata": {},
   "source": [
    "We now iterate over the 5 folds and the locations to build the BNICRF ensemble, and save the computing time for each part. We also produce the out-of-sample conditional probabilities."
   ]
  },
  {
   "cell_type": "code",
   "execution_count": 3,
   "metadata": {
    "scrolled": false
   },
   "outputs": [
    {
     "name": "stderr",
     "output_type": "stream",
     "text": [
      "Fold f1_79_84: \n",
      "\n"
     ]
    },
    {
     "name": "stdout",
     "output_type": "stream",
     "text": [
      "[1] \"Building Bayesian Network using tabu...\"\n",
      "[1] \"Done building Bayesian Network.\"\n"
     ]
    },
    {
     "name": "stderr",
     "output_type": "stream",
     "text": [
      "Elapsed time: 2.11281280517578\n",
      "\n",
      "   Building CRF ensemble and predicting ...\n",
      "\n",
      "Done. Elapsed time: 43.4455196936925. Average time per CRF: 0.851872935170442\n",
      "\n",
      "Fold f2_85_90: \n",
      "\n"
     ]
    },
    {
     "name": "stdout",
     "output_type": "stream",
     "text": [
      "[1] \"Building Bayesian Network using tabu...\"\n",
      "[1] \"Done building Bayesian Network.\"\n"
     ]
    },
    {
     "name": "stderr",
     "output_type": "stream",
     "text": [
      "Elapsed time: 2.95561732053757\n",
      "\n",
      "   Building CRF ensemble and predicting ...\n",
      "\n",
      "Done. Elapsed time: 44.7673272053401. Average time per CRF: 0.877790729516472\n",
      "\n",
      "Fold f3_91_96: \n",
      "\n"
     ]
    },
    {
     "name": "stdout",
     "output_type": "stream",
     "text": [
      "[1] \"Building Bayesian Network using tabu...\"\n",
      "[1] \"Done building Bayesian Network.\"\n"
     ]
    },
    {
     "name": "stderr",
     "output_type": "stream",
     "text": [
      "Elapsed time: 3.0076496720314\n",
      "\n",
      "   Building CRF ensemble and predicting ...\n",
      "\n",
      "Done. Elapsed time: 43.4590153972308. Average time per CRF: 0.852137556808447\n",
      "\n",
      "Fold f4_97_02: \n",
      "\n"
     ]
    },
    {
     "name": "stdout",
     "output_type": "stream",
     "text": [
      "[1] \"Building Bayesian Network using tabu...\"\n",
      "[1] \"Done building Bayesian Network.\"\n"
     ]
    },
    {
     "name": "stderr",
     "output_type": "stream",
     "text": [
      "Elapsed time: 2.19092486302058\n",
      "\n",
      "   Building CRF ensemble and predicting ...\n",
      "\n",
      "Done. Elapsed time: 44.398747253418. Average time per CRF: 0.870563671635646\n",
      "\n",
      "Fold f5_03_08: \n",
      "\n"
     ]
    },
    {
     "name": "stdout",
     "output_type": "stream",
     "text": [
      "[1] \"Building Bayesian Network using tabu...\"\n",
      "[1] \"Done building Bayesian Network.\"\n"
     ]
    },
    {
     "name": "stderr",
     "output_type": "stream",
     "text": [
      "Elapsed time: 5.01194048722585\n",
      "\n",
      "   Building CRF ensemble and predicting ...\n",
      "\n",
      "Done. Elapsed time: 47.3138853033384. Average time per CRF: 0.927723241241929\n",
      "\n"
     ]
    }
   ],
   "source": [
    "plan(multicore, workers = parallelly::availableCores) # Will use all the available cores in the system\n",
    "\n",
    "\n",
    "timeToRun <- matrix(NA, nrow = 5, ncol = 3, \n",
    "                   dimnames = list(c(names(data$st_4007)),\n",
    "                                c(\"BN Graph Construction\", \"CRF Ensemble Training and Prediction\", \"Simulation\"))\n",
    "                   ) \n",
    "\n",
    "\n",
    "predS <-\n",
    "  # future_lapply(future.stdout = T, future.seed = TRUE,\n",
    "                lapply(\n",
    "                X = names(data$st_4007), # Iterate through folds\n",
    "                FUN =  function(ifold){\n",
    "                  \n",
    "                  message(paste0( \"Fold \", ifold, \": \"))\n",
    "\n",
    "                  # Prepare the data for the BN:\n",
    "                  dataFortheBN = do.call(cbind, lapply(data, function(stdata_) stdata_[[ifold]]$y.train))\n",
    "                  \n",
    "                  dataFortheBN <-\n",
    "                    data.frame(\n",
    "                      lapply(1:ncol(dataFortheBN),\n",
    "                             function(icl) {\n",
    "                               cl <- dataFortheBN[,icl]\n",
    "                               as.factor(as.character(as.numeric(cl > 1)))\n",
    "                             }\n",
    "                      )\n",
    "                    )\n",
    "                  \n",
    "                  colnames(dataFortheBN) = names(data)\n",
    "                  \n",
    "                  t0 = Sys.time()\n",
    "                  \n",
    "                  # Build the BN:                                         \n",
    "                  descbn <- buildDescriptive(y = list(Data = dataFortheBN, \n",
    "                                                      xyCoords = y.test$xyCoords, \n",
    "                                                      Metadata = y.test$Metadata),\n",
    "                                             structure.learning.algorithm = \"tabu\",\n",
    "                                             param.learning.method = \"mle\",\n",
    "                                             structure.learning.args.list = list(maxp = maxp, tabu = tabu.list.length)\n",
    "                  )                                    \n",
    "                  \n",
    "                  # And get the ancestral order:\n",
    "                  ancestral.order <- sortStationsAncestral(descbn, merge.first.block = T, first.alone = T)\n",
    "                  \n",
    "                  timeToRun[ifold, \"BN Graph Construction\"] <<- Sys.time() - t0\n",
    "                  message(paste0(\"Elapsed time: \", timeToRun[ifold, \"BN Graph Construction\"]))\n",
    "                  \n",
    "                  \n",
    "                  rm(descbn)\n",
    "                  rm(dataFortheBN)\n",
    "                  gc(full = TRUE)\n",
    "                  \n",
    "                  t0 = Sys.time()\n",
    "                                                       \n",
    "                  message(paste0(\"   Building CRF ensemble and predicting ...\"))\n",
    "\n",
    "                  \n",
    "                  for (stid in names(ancestral.order)){ # Build the CRF ensemble\n",
    "                    if (stid == names(ancestral.order)[1]){ # The first CRF is just a standard RF\n",
    "                      \n",
    "                      full.data <- data[[paste(\"st\", ancestral.order[[stid]], sep = \"_\")]]\n",
    "                      md1 <- randomForestTrain(x = full.data[[ifold]]$x.train,\n",
    "                                               y = as.numeric(full.data[[ifold]]$y.train > 1), \n",
    "                                               method = \"binaryCrossEntropy\",\n",
    "                                               ntree = ntree, \n",
    "                                               minbucket = minbucket, \n",
    "                                               progress.bar = F, \n",
    "                                               parallel.plan = NULL)\n",
    "                      pr1 <- randomForestPredict(md1, full.data[[ifold]]$x.test,\n",
    "                                                 bagging.function = mean)\n",
    "                      md1 <- NULL\n",
    "                      rm(md1)\n",
    "                      gc(full = TRUE)\n",
    "                      \n",
    "                    } else { # And the rest are \"true\" CRFs:\n",
    "  \n",
    "                      full.data <- lapply(paste(\"st\", ancestral.order[[stid]], sep = \"_\"),\n",
    "                                          function(iiist) return(data[[iiist]]))\n",
    "                      \n",
    "                      x.train <- do.call(cbind,\n",
    "                                         lapply(full.data, function(iiist) iiist[[ifold]]$x.train))\n",
    "                      y.train <- do.call(cbind,\n",
    "                                         lapply(full.data, function(iiist) iiist[[ifold]]$y.train))\n",
    "                      x.test <- do.call(cbind,\n",
    "                                        lapply(full.data, function(iiist) iiist[[ifold]]$x.test))\n",
    "                      \n",
    "                      #remove duplicates in x.train\n",
    "                      \n",
    "                      unique.columns <- 1\n",
    "                      if (!identical(x.test[,2], x.test[,1])) unique.columns <- c(unique.columns, 2)\n",
    "                      for (ic in 3:ncol(x.test)){\n",
    "                        identicS <-\n",
    "                          apply(x.test[, 1:(ic-1) ], MARGIN = 2, FUN = function(cc){\n",
    "                            return( identical(cc, x.test[, ic]) )\n",
    "                          })\n",
    "                        \n",
    "                        if (sum(identicS) ==  0) unique.columns <- c(unique.columns, ic)\n",
    "                      }\n",
    "                      \n",
    "                      x.train <- x.train[, unique.columns]\n",
    "                      x.test <- x.test[, unique.columns]\n",
    "                      \n",
    "                      # binary\n",
    "                      y.train <- matrix(as.numeric(y.train > 1),\n",
    "                                        ncol = ncol(y.train) )\n",
    "                      \n",
    "                      \n",
    "                      mtry <- floor(ncol(x.train)*mtry.factor)\n",
    "                      \n",
    "                      md <- randomForestTrain(x = x.train,\n",
    "                                              y = y.train,\n",
    "                                              minbucket = minbucket,\n",
    "                                              minsplit = 2*minbucket,\n",
    "                                              mtry = mtry,\n",
    "                                              ntree = ntree,\n",
    "                                              method = \"binaryMultiEntropyCond\"\n",
    "                                              ,parallel.plan = NULL,                                              \n",
    "                                              progress.bar = F,\n",
    "                                              resample = T,\n",
    "                                              replace = F,\n",
    "                                              sampsize = floor(0.632*nrow(x.train)), \n",
    "                                              undersample.binary = F\n",
    "                      )\n",
    "                                            \n",
    "                      if (stid == names(ancestral.order)[2]){\n",
    "                        pred.ap <-\n",
    "                          randomForestPredict(md, newdata = x.test\n",
    "                                              , method = \"aposteriori\",\n",
    "                                              non.informative.threshold = non.informative.threshold,\n",
    "                                              non.informative.p = non.informative.p)\n",
    "                        \n",
    "                        pred.ap[,1] <- pr1\n",
    "                      } else {\n",
    "                        aux <-\n",
    "                          randomForestPredict(md, newdata = x.test\n",
    "                                              , method = \"aposteriori\",\n",
    "                                              non.informative.threshold = non.informative.threshold,\n",
    "                                              non.informative.p = non.informative.p)\n",
    "                        \n",
    "                        aux <- aux[ ,\n",
    "                                    ncol(aux) - seq(from = 2^(length(ancestral.order[[stid]])-1)-1, to = 0, by = -1)]\n",
    "                        pred.ap <- cbind(pred.ap, aux)\n",
    "                      }\n",
    "                      \n",
    "                      md <- NULL\n",
    "                      rm(md)\n",
    "                      gc(full = TRUE)\n",
    "                      \n",
    "                    }\n",
    "                  }\n",
    "                  \n",
    "                  attr(pred.ap, \"ancestral.order\") <- ancestral.order\n",
    "                  \n",
    "                  timeToRun[ifold, \"CRF Ensemble Training and Prediction\"] <<- Sys.time() - t0\n",
    "                  message(paste0(\"Done. Elapsed time: \", timeToRun[ifold, \"CRF Ensemble Training and Prediction\"],\n",
    "                                \". Average time per CRF: \",\n",
    "                        timeToRun[ifold, \"CRF Ensemble Training and Prediction\"]/length(ancestral.order)))\n",
    "                  \n",
    "                  return( pred.ap )\n",
    "                })\n",
    "\n",
    "names(predS) <- names(data$st_4007)\n",
    "                                        \n",
    "plan(sequential)"
   ]
  },
  {
   "cell_type": "markdown",
   "metadata": {},
   "source": [
    "### Simulation of 250 samples"
   ]
  },
  {
   "cell_type": "markdown",
   "metadata": {},
   "source": [
    "We now proceed to simulate from the predicted probabilities:"
   ]
  },
  {
   "cell_type": "code",
   "execution_count": 4,
   "metadata": {
    "scrolled": true
   },
   "outputs": [
    {
     "name": "stderr",
     "output_type": "stream",
     "text": [
      "Simulating for fold f1_79_84...\n",
      "\n",
      "Done.\n",
      "\n",
      "Elapsed time: 1.90909519195557\n",
      "\n",
      "Simulating for fold f2_85_90...\n",
      "\n",
      "Done.\n",
      "\n",
      "Elapsed time: 2.22113316059113\n",
      "\n",
      "Simulating for fold f3_91_96...\n",
      "\n",
      "Done.\n",
      "\n",
      "Elapsed time: 2.35605706771215\n",
      "\n",
      "Simulating for fold f4_97_02...\n",
      "\n",
      "Done.\n",
      "\n",
      "Elapsed time: 1.92131596008937\n",
      "\n",
      "Simulating for fold f5_03_08...\n",
      "\n",
      "Done.\n",
      "\n",
      "Elapsed time: 1.49155206282934\n",
      "\n"
     ]
    }
   ],
   "source": [
    "plan(multicore, workers = parallelly::availableCores)\n",
    "\n",
    "completeSimulations <-\n",
    "  lapply(X = names(predS),  FUN =  function(ifold){\n",
    "    \n",
    "    message(paste0( \"Simulating for fold \", ifold, \"...\"))\n",
    "\n",
    "    t0 = Sys.time()\n",
    "      \n",
    "    ancestral.order = attr(predS[[ifold]], \"ancestral.order\")  \n",
    "    ancestral.order.withoutfirst <- ancestral.order[2:length(ancestral.order)]\n",
    "    \n",
    "    simS <-\n",
    "      future_lapply( future.seed = T,\n",
    "                     X = 1:250, function(nsim){\n",
    "                       for (nodeindex in 1:length(ancestral.order.withoutfirst)){\n",
    "                         if (nodeindex == 1){\n",
    "                           common.idx <- sum(2^seq(0, to = length(ancestral.order.withoutfirst[[1]])-1, by = 1))\n",
    "                           prmat <- predS[[ifold]][, 1:common.idx]\n",
    "                           class(prmat) <- \"RandomForestDist.prediction.simulable\"\n",
    "                           sim <- randomForestSimulate(prmat, distr = \"conditionalBernoulli\", n = 1)[,,1]\n",
    "                           colnames(sim) <- ancestral.order.withoutfirst[[1]]\n",
    "                         } else {\n",
    "                           current.nodes <- ancestral.order.withoutfirst[[nodeindex]][1:(length(ancestral.order.withoutfirst[[nodeindex]])-1)]\n",
    "                           ids.cond <- match(current.nodes, colnames(sim))\n",
    "                           aux.sim <- sim[, ids.cond]\n",
    "                           \n",
    "                           prmat.idx <- seq((common.idx + 1), by = 1, length.out = 2^(length(ancestral.order.withoutfirst[[nodeindex]])-1))\n",
    "                           common.idx <- max(prmat.idx)\n",
    "                           \n",
    "                           aux.prmat <- predS[[ifold]][, prmat.idx]\n",
    "                           \n",
    "                           cn <- colnames(sim)\n",
    "                           sim <- cbind(sim,\n",
    "                                        sapply(X = 1:nrow(aux.sim), FUN = function(ipr){\n",
    "                                          ss <- aux.sim[ipr,]\n",
    "                                          p <- aux.prmat[ipr, sum( sapply(1:length(ss), function(ik) ss[ik]*2^(ik-1) ) )+1]\n",
    "                                          sample(c(0,1), size = 1, prob = c(1-p, p))\n",
    "                                        })\n",
    "                           )\n",
    "                           \n",
    "                           colnames(sim) <- c(cn, ancestral.order.withoutfirst[[nodeindex]][length(ancestral.order.withoutfirst[[nodeindex]])])\n",
    "                         }\n",
    "                       }\n",
    "    \n",
    "                      sim = sim[, match(y.test$Metadata$station_id, colnames(sim))]\n",
    "                       \n",
    "                      return(sim)\n",
    "                     })\n",
    "    \n",
    "    timeToRun[ifold, \"Simulation\"] <<- Sys.time() - t0\n",
    "    message(\"Done.\")\n",
    "    message(paste0(\"Elapsed time: \", timeToRun[ifold, \"Simulation\"]))\n",
    "    \n",
    "    return(simS)\n",
    "  })\n",
    "                                                         \n",
    "plan(sequential)\n",
    "\n",
    "\n",
    "# Rearange simulations for validation:\n",
    "completeSimulations <-\n",
    "  lapply(1:250, function(simi){\n",
    "    do.call(rbind,\n",
    "            lapply(completeSimulations, function(simii){\n",
    "              simii[[simi]]\n",
    "            })\n",
    "    )\n",
    "  })"
   ]
  },
  {
   "cell_type": "markdown",
   "metadata": {},
   "source": [
    "### Total Elapsed Time (in minutes):"
   ]
  },
  {
   "cell_type": "code",
   "execution_count": 5,
   "metadata": {
    "scrolled": true
   },
   "outputs": [
    {
     "data": {
      "text/html": [
       "<table class=\"dataframe\">\n",
       "<caption>A matrix: 5 × 3 of type dbl</caption>\n",
       "<thead>\n",
       "\t<tr><th></th><th scope=col>BN Graph Construction</th><th scope=col>CRF Ensemble Training and Prediction</th><th scope=col>Simulation</th></tr>\n",
       "</thead>\n",
       "<tbody>\n",
       "\t<tr><th scope=row>f1_79_84</th><td>2.112813</td><td>43.44552</td><td>1.909095</td></tr>\n",
       "\t<tr><th scope=row>f2_85_90</th><td>2.955617</td><td>44.76733</td><td>2.221133</td></tr>\n",
       "\t<tr><th scope=row>f3_91_96</th><td>3.007650</td><td>43.45902</td><td>2.356057</td></tr>\n",
       "\t<tr><th scope=row>f4_97_02</th><td>2.190925</td><td>44.39875</td><td>1.921316</td></tr>\n",
       "\t<tr><th scope=row>f5_03_08</th><td>5.011940</td><td>47.31389</td><td>1.491552</td></tr>\n",
       "</tbody>\n",
       "</table>\n"
      ],
      "text/latex": [
       "A matrix: 5 × 3 of type dbl\n",
       "\\begin{tabular}{r|lll}\n",
       "  & BN Graph Construction & CRF Ensemble Training and Prediction & Simulation\\\\\n",
       "\\hline\n",
       "\tf1\\_79\\_84 & 2.112813 & 43.44552 & 1.909095\\\\\n",
       "\tf2\\_85\\_90 & 2.955617 & 44.76733 & 2.221133\\\\\n",
       "\tf3\\_91\\_96 & 3.007650 & 43.45902 & 2.356057\\\\\n",
       "\tf4\\_97\\_02 & 2.190925 & 44.39875 & 1.921316\\\\\n",
       "\tf5\\_03\\_08 & 5.011940 & 47.31389 & 1.491552\\\\\n",
       "\\end{tabular}\n"
      ],
      "text/markdown": [
       "\n",
       "A matrix: 5 × 3 of type dbl\n",
       "\n",
       "| <!--/--> | BN Graph Construction | CRF Ensemble Training and Prediction | Simulation |\n",
       "|---|---|---|---|\n",
       "| f1_79_84 | 2.112813 | 43.44552 | 1.909095 |\n",
       "| f2_85_90 | 2.955617 | 44.76733 | 2.221133 |\n",
       "| f3_91_96 | 3.007650 | 43.45902 | 2.356057 |\n",
       "| f4_97_02 | 2.190925 | 44.39875 | 1.921316 |\n",
       "| f5_03_08 | 5.011940 | 47.31389 | 1.491552 |\n",
       "\n"
      ],
      "text/plain": [
       "         BN Graph Construction CRF Ensemble Training and Prediction Simulation\n",
       "f1_79_84 2.112813              43.44552                             1.909095  \n",
       "f2_85_90 2.955617              44.76733                             2.221133  \n",
       "f3_91_96 3.007650              43.45902                             2.356057  \n",
       "f4_97_02 2.190925              44.39875                             1.921316  \n",
       "f5_03_08 5.011940              47.31389                             1.491552  "
      ]
     },
     "metadata": {},
     "output_type": "display_data"
    }
   ],
   "source": [
    "timeToRun"
   ]
  },
  {
   "cell_type": "markdown",
   "metadata": {},
   "source": [
    "This was run on an Intel(R) Core(TM) i5-8500 CPU @ 3.00GHz. Total time required to run the notebook:"
   ]
  },
  {
   "cell_type": "code",
   "execution_count": 6,
   "metadata": {},
   "outputs": [
    {
     "name": "stdout",
     "output_type": "stream",
     "text": [
      "Time difference of 4.147089 hours\n"
     ]
    }
   ],
   "source": [
    "time_global = Sys.time() - time_global\n",
    "print(time_global)"
   ]
  },
  {
   "cell_type": "markdown",
   "metadata": {},
   "source": [
    "### Validation of Spatial Correlation and AUC:"
   ]
  },
  {
   "cell_type": "code",
   "execution_count": 7,
   "metadata": {},
   "outputs": [
    {
     "data": {
      "text/html": [
       "<style>\n",
       ".list-inline {list-style: none; margin:0; padding: 0}\n",
       ".list-inline>li {display: inline-block}\n",
       ".list-inline>li:not(:last-child)::after {content: \"\\00b7\"; padding: 0 .5ex}\n",
       "</style>\n",
       "<ol class=list-inline><li>0.886536787217076</li><li>0.867566073514398</li><li>0.84604179050597</li><li>0.839357851827198</li><li>0.861971508634488</li><li>0.851700441577827</li><li>0.835202720090369</li><li>0.868023512097319</li><li>0.85775125281701</li><li>0.880057029628327</li><li>0.883905552418256</li><li>0.834779807967745</li><li>0.855945440386969</li><li>0.850194167416068</li><li>0.860669807479962</li><li>0.885861207078888</li><li>0.847962409747685</li><li>0.854368366644874</li><li>0.854367584952173</li><li>0.865619590632899</li><li>0.833578327647926</li><li>0.846852629766914</li><li>0.848157549247405</li><li>0.852770623280736</li><li>0.87640456946118</li><li>0.845303291977648</li><li>0.841485275213409</li><li>0.863804082743204</li><li>0.830746562867369</li><li>0.842454381549386</li><li>0.848592249467063</li><li>0.847076571593914</li><li>0.862384935160588</li><li>0.863120166738353</li><li>0.857153963966529</li><li>0.842635996218743</li><li>0.847978589133037</li><li>0.83051138262572</li><li>0.839729845400118</li><li>0.860110941753091</li><li>0.850783640543576</li><li>0.835668992329492</li><li>0.845584475264976</li><li>0.860580079584263</li><li>0.849249373974044</li><li>0.768058009496753</li><li>0.839500600966322</li><li>0.84889038397497</li><li>0.854125726283844</li><li>0.835163056193144</li><li>0.85890599451673</li><li>0.882300103398761</li><li>0.880879777410137</li></ol>\n"
      ],
      "text/latex": [
       "\\begin{enumerate*}\n",
       "\\item 0.886536787217076\n",
       "\\item 0.867566073514398\n",
       "\\item 0.84604179050597\n",
       "\\item 0.839357851827198\n",
       "\\item 0.861971508634488\n",
       "\\item 0.851700441577827\n",
       "\\item 0.835202720090369\n",
       "\\item 0.868023512097319\n",
       "\\item 0.85775125281701\n",
       "\\item 0.880057029628327\n",
       "\\item 0.883905552418256\n",
       "\\item 0.834779807967745\n",
       "\\item 0.855945440386969\n",
       "\\item 0.850194167416068\n",
       "\\item 0.860669807479962\n",
       "\\item 0.885861207078888\n",
       "\\item 0.847962409747685\n",
       "\\item 0.854368366644874\n",
       "\\item 0.854367584952173\n",
       "\\item 0.865619590632899\n",
       "\\item 0.833578327647926\n",
       "\\item 0.846852629766914\n",
       "\\item 0.848157549247405\n",
       "\\item 0.852770623280736\n",
       "\\item 0.87640456946118\n",
       "\\item 0.845303291977648\n",
       "\\item 0.841485275213409\n",
       "\\item 0.863804082743204\n",
       "\\item 0.830746562867369\n",
       "\\item 0.842454381549386\n",
       "\\item 0.848592249467063\n",
       "\\item 0.847076571593914\n",
       "\\item 0.862384935160588\n",
       "\\item 0.863120166738353\n",
       "\\item 0.857153963966529\n",
       "\\item 0.842635996218743\n",
       "\\item 0.847978589133037\n",
       "\\item 0.83051138262572\n",
       "\\item 0.839729845400118\n",
       "\\item 0.860110941753091\n",
       "\\item 0.850783640543576\n",
       "\\item 0.835668992329492\n",
       "\\item 0.845584475264976\n",
       "\\item 0.860580079584263\n",
       "\\item 0.849249373974044\n",
       "\\item 0.768058009496753\n",
       "\\item 0.839500600966322\n",
       "\\item 0.84889038397497\n",
       "\\item 0.854125726283844\n",
       "\\item 0.835163056193144\n",
       "\\item 0.85890599451673\n",
       "\\item 0.882300103398761\n",
       "\\item 0.880879777410137\n",
       "\\end{enumerate*}\n"
      ],
      "text/markdown": [
       "1. 0.886536787217076\n",
       "2. 0.867566073514398\n",
       "3. 0.84604179050597\n",
       "4. 0.839357851827198\n",
       "5. 0.861971508634488\n",
       "6. 0.851700441577827\n",
       "7. 0.835202720090369\n",
       "8. 0.868023512097319\n",
       "9. 0.85775125281701\n",
       "10. 0.880057029628327\n",
       "11. 0.883905552418256\n",
       "12. 0.834779807967745\n",
       "13. 0.855945440386969\n",
       "14. 0.850194167416068\n",
       "15. 0.860669807479962\n",
       "16. 0.885861207078888\n",
       "17. 0.847962409747685\n",
       "18. 0.854368366644874\n",
       "19. 0.854367584952173\n",
       "20. 0.865619590632899\n",
       "21. 0.833578327647926\n",
       "22. 0.846852629766914\n",
       "23. 0.848157549247405\n",
       "24. 0.852770623280736\n",
       "25. 0.87640456946118\n",
       "26. 0.845303291977648\n",
       "27. 0.841485275213409\n",
       "28. 0.863804082743204\n",
       "29. 0.830746562867369\n",
       "30. 0.842454381549386\n",
       "31. 0.848592249467063\n",
       "32. 0.847076571593914\n",
       "33. 0.862384935160588\n",
       "34. 0.863120166738353\n",
       "35. 0.857153963966529\n",
       "36. 0.842635996218743\n",
       "37. 0.847978589133037\n",
       "38. 0.83051138262572\n",
       "39. 0.839729845400118\n",
       "40. 0.860110941753091\n",
       "41. 0.850783640543576\n",
       "42. 0.835668992329492\n",
       "43. 0.845584475264976\n",
       "44. 0.860580079584263\n",
       "45. 0.849249373974044\n",
       "46. 0.768058009496753\n",
       "47. 0.839500600966322\n",
       "48. 0.84889038397497\n",
       "49. 0.854125726283844\n",
       "50. 0.835163056193144\n",
       "51. 0.85890599451673\n",
       "52. 0.882300103398761\n",
       "53. 0.880879777410137\n",
       "\n",
       "\n"
      ],
      "text/plain": [
       " [1] 0.8865368 0.8675661 0.8460418 0.8393579 0.8619715 0.8517004 0.8352027\n",
       " [8] 0.8680235 0.8577513 0.8800570 0.8839056 0.8347798 0.8559454 0.8501942\n",
       "[15] 0.8606698 0.8858612 0.8479624 0.8543684 0.8543676 0.8656196 0.8335783\n",
       "[22] 0.8468526 0.8481575 0.8527706 0.8764046 0.8453033 0.8414853 0.8638041\n",
       "[29] 0.8307466 0.8424544 0.8485922 0.8470766 0.8623849 0.8631202 0.8571540\n",
       "[36] 0.8426360 0.8479786 0.8305114 0.8397298 0.8601109 0.8507836 0.8356690\n",
       "[43] 0.8455845 0.8605801 0.8492494 0.7680580 0.8395006 0.8488904 0.8541257\n",
       "[50] 0.8351631 0.8589060 0.8823001 0.8808798"
      ]
     },
     "metadata": {},
     "output_type": "display_data"
    }
   ],
   "source": [
    "y.test.bin <-\n",
    "        do.call(cbind,\n",
    "          lapply(1:ncol(y.test$Data),\n",
    "                 function(icl) {\n",
    "                   cl <- y.test$Data[,icl]\n",
    "                   as.factor(cl > 1)\n",
    "                 }\n",
    "          )\n",
    "        )\n",
    "names(y.test.bin) = y.test$Metadata$station_id\n",
    "\n",
    "spatial_correlation <- \n",
    "  apply(simplify2array(\n",
    "    lapply(completeSimulations,\n",
    "           function(sim) cor(sim))\n",
    "    ), MARGIN = c(1,2), mean)\n",
    "\n",
    "    \n",
    "marginals <- apply(simplify2array(completeSimulations), MARGIN = c(1,2), mean)\n",
    "AUC <-\n",
    "  sapply(1:ncol(marginals), function(icol){\n",
    "    auc <- sapply(ROCR::performance(\n",
    "      ROCR::prediction(marginals[, icol], y.test.bin[, icol])\n",
    "      ,\"auc\")@y.values, function(x) x)\n",
    "    auc\n",
    "  })\n",
    "      \n",
    "AUC    "
   ]
  },
  {
   "cell_type": "code",
   "execution_count": 8,
   "metadata": {},
   "outputs": [
    {
     "data": {
      "image/png": "[encoded data removed]",
      "text/plain": [
       "Plot with title “Observed vs Simulated Correlations for the 53 Location Pairs”"
      ]
     },
     "metadata": {
      "image/png": {
       "height": 420,
       "width": 420
      }
     },
     "output_type": "display_data"
    }
   ],
   "source": [
    "plot(cor(y.test.bin), spatial_correlation, xlab = \"Observed Correlation\", ylab = \"Simulated Correlation\", \n",
    "     xlim = c(0.2,0.8),\n",
    "     ylim = c(0.2,0.8),\n",
    "     pch = 16,\n",
    "     main = \"Observed vs Simulated Correlations for the 53 Location Pairs\")\n",
    "lines(seq(0,1), seq(0,1), lty = \"dashed\")"
   ]
  }
 ],
 "metadata": {
  "kernelspec": {
   "display_name": "R",
   "language": "R",
   "name": "ir"
  },
  "language_info": {
   "codemirror_mode": "r",
   "file_extension": ".r",
   "mimetype": "text/x-r-source",
   "name": "R",
   "pygments_lexer": "r",
   "version": "4.4.1"
  },
  "latex_envs": {
   "LaTeX_envs_menu_present": true,
   "autoclose": false,
   "autocomplete": true,
   "bibliofile": "biblio.bib",
   "cite_by": "apalike",
   "current_citInitial": 1,
   "eqLabelWithNumbers": true,
   "eqNumInitial": 1,
   "hotkeys": {
    "equation": "Ctrl-E",
    "itemize": "Ctrl-I"
   },
   "labels_anchors": false,
   "latex_user_defs": false,
   "report_style_numbering": false,
   "user_envs_cfg": false
  },
  "toc": {
   "base_numbering": 1,
   "nav_menu": {},
   "number_sections": true,
   "sideBar": true,
   "skip_h1_title": false,
   "title_cell": "Table of Contents",
   "title_sidebar": "Contents",
   "toc_cell": false,
   "toc_position": {},
   "toc_section_display": true,
   "toc_window_display": false
  }
 },
 "nbformat": 4,
 "nbformat_minor": 4
}
